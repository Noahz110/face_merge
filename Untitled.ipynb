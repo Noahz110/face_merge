{
 "cells": [
  {
   "cell_type": "code",
   "execution_count": 14,
   "metadata": {},
   "outputs": [
    {
     "name": "stdout",
     "output_type": "stream",
     "text": [
      "Blond_Hair\n",
      "Male\n",
      "Smiling\n",
      "Wavy_Hair\n",
      "Total images in CelebA with same features: 63069\n",
      "The first image in all the 63069 images is: 000003.jpg\n"
     ]
    }
   ],
   "source": [
    "f = open(\"label.txt\")\n",
    "line = f.readline() \n",
    "print(line.split()[9])\n",
    "print(line.split()[20])\n",
    "print(line.split()[31])\n",
    "print(line.split()[33])\n",
    "img  = []\n",
    "while line:\n",
    "    array = line.split()\n",
    "    if (array[9] == \"0\"): \n",
    "        if (array[20] == \"0\"): \n",
    "            if (array[31] == \"0\"):\n",
    "                if (array[33] == \"0\"):\n",
    "                    img.append(array[0])\n",
    "    line = f.readline()\n",
    "\n",
    "print(\"Total images in CelebA with same features: \"+ str(len(img)))\n",
    "print(\"The first image in all the \"+ str(len(img)) + \" images is: \"+img[0])\n",
    "f.close()"
   ]
  },
  {
   "cell_type": "code",
   "execution_count": null,
   "metadata": {},
   "outputs": [],
   "source": []
  },
  {
   "cell_type": "code",
   "execution_count": null,
   "metadata": {},
   "outputs": [],
   "source": []
  }
 ],
 "metadata": {
  "kernelspec": {
   "display_name": "Python 3",
   "language": "python",
   "name": "python3"
  },
  "language_info": {
   "codemirror_mode": {
    "name": "ipython",
    "version": 3
   },
   "file_extension": ".py",
   "mimetype": "text/x-python",
   "name": "python",
   "nbconvert_exporter": "python",
   "pygments_lexer": "ipython3",
   "version": "3.6.4"
  }
 },
 "nbformat": 4,
 "nbformat_minor": 2
}
